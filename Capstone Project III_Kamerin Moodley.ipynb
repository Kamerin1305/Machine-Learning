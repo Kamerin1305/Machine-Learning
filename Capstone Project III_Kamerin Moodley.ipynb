{
  "nbformat": 4,
  "nbformat_minor": 0,
  "metadata": {
    "kernelspec": {
      "display_name": "Python 3",
      "language": "python",
      "name": "python3"
    },
    "language_info": {
      "codemirror_mode": {
        "name": "ipython",
        "version": 3
      },
      "file_extension": ".py",
      "mimetype": "text/x-python",
      "name": "python",
      "nbconvert_exporter": "python",
      "pygments_lexer": "ipython3",
      "version": "3.7.3"
    },
    "latex_envs": {
      "LaTeX_envs_menu_present": true,
      "autoclose": false,
      "autocomplete": true,
      "bibliofile": "biblio.bib",
      "cite_by": "apalike",
      "current_citInitial": 1,
      "eqLabelWithNumbers": true,
      "eqNumInitial": 1,
      "hotkeys": {
        "equation": "Ctrl-E",
        "itemize": "Ctrl-I"
      },
      "labels_anchors": false,
      "latex_user_defs": false,
      "report_style_numbering": false,
      "user_envs_cfg": false
    },
    "toc": {
      "base_numbering": "",
      "nav_menu": {},
      "number_sections": false,
      "sideBar": true,
      "skip_h1_title": false,
      "title_cell": "Table of Contents",
      "title_sidebar": "Contents",
      "toc_cell": false,
      "toc_position": {},
      "toc_section_display": true,
      "toc_window_display": true
    },
    "varInspector": {
      "cols": {
        "lenName": 16,
        "lenType": 16,
        "lenVar": 40
      },
      "kernels_config": {
        "python": {
          "delete_cmd_postfix": "",
          "delete_cmd_prefix": "del ",
          "library": "var_list.py",
          "varRefreshCmd": "print(var_dic_list())"
        },
        "r": {
          "delete_cmd_postfix": ") ",
          "delete_cmd_prefix": "rm(",
          "library": "var_list.r",
          "varRefreshCmd": "cat(var_dic_list()) "
        }
      },
      "types_to_exclude": [
        "module",
        "function",
        "builtin_function_or_method",
        "instance",
        "_Feature"
      ],
      "window_display": false
    },
    "colab": {
      "name": "CAPSTONE PROJECT III - LEVEL 3 - ETIENNE BAUSCHER.ipynb",
      "version": "0.3.2",
      "provenance": []
    }
  },
  "cells": [
    {
      "cell_type": "markdown",
      "metadata": {
        "id": "iVxVBeO2L1AZ",
        "colab_type": "text"
      },
      "source": [
        "###Capstone Project III"
      ]
    },
    {
      "cell_type": "markdown",
      "metadata": {
        "id": "4C5fWQ5hMAZi",
        "colab_type": "text"
      },
      "source": [
        ""
      ]
    },
    {
      "cell_type": "code",
      "metadata": {
        "ExecuteTime": {
          "end_time": "2019-07-21T15:12:16.714796Z",
          "start_time": "2019-07-21T15:12:16.710809Z"
        },
        "id": "PSh-Q84XL1Aa",
        "colab_type": "code",
        "colab": {}
      },
      "source": [
        "#from __future__ import print_function\n",
        "import tensorflow\n",
        "from tensorflow import keras\n",
        "from tensorflow.keras.datasets import imdb\n",
        "import numpy as np\n",
        "import keras\n",
        "from tensorflow.keras.preprocessing.sequence import pad_sequences\n",
        "from tensorflow.keras.layers import Dense, Embedding, LSTM\n",
        "from tensorflow.keras.models import Sequential\n",
        "import matplotlib.pyplot as plt\n",
        "from os import listdir"
      ],
      "execution_count": 0,
      "outputs": []
    },
    {
      "cell_type": "markdown",
      "metadata": {
        "id": "_3PPKnT-L1Ah",
        "colab_type": "text"
      },
      "source": [
        "### Load Data\n",
        "In loading the data I specified 10000 features which is the amount of distinct words allowed. The dataset is also set up with the training and test data already determined and split into 25000 samples each."
      ]
    },
    {
      "cell_type": "code",
      "metadata": {
        "ExecuteTime": {
          "end_time": "2019-07-21T15:12:24.531810Z",
          "start_time": "2019-07-21T15:12:20.061242Z"
        },
        "id": "MHVyg2m6L1Ak",
        "colab_type": "code",
        "colab": {}
      },
      "source": [
        "# The number of distinct words allowed. I chose 10000\n",
        "num_words = 10000\n",
        "# Set the training and testing data\n",
        "(x_train, y_train), (x_test, y_test) = imdb.load_data(num_words=num_words)"
      ],
      "execution_count": 0,
      "outputs": []
    },
    {
      "cell_type": "code",
      "metadata": {
        "ExecuteTime": {
          "end_time": "2019-07-21T15:12:32.031793Z",
          "start_time": "2019-07-21T15:12:32.029392Z"
        },
        "id": "ggTLx96qL1Ap",
        "colab_type": "code",
        "colab": {}
      },
      "source": [
        "# THIS BLOCK OF CODE WAS COMMENTED OUT AS I HAD PROBLEMS LOADING THE DATASET.\n",
        "# THERE WAS A PROBLEM WITH THE PICKLE STATEMENT AND THE BELOW WAS UTILISED TO\n",
        "# BYPASS IT. IT SEEMS THE ISSUE WAS RESOLVED BY KERAS AND TENSORFLOW.\n",
        "# # number of features to be used in the num_word argument in the load_data method\n",
        "# num_words = 5000\n",
        "# # save np.load\n",
        "# np_load_old = np.load\n",
        "\n",
        "# # # # modify the default parameters of np.load\n",
        "# # # #allow_pickle=True,\n",
        "# np.load = lambda *a, **k: np_load_old(*a,allow_pickle=True,  **k)\n",
        "\n",
        "# # # call load_data with allow_pickle implicitly set to true\n",
        "# (x_train, y_train), (x_test, y_test) = imdb.load_data(num_words=num_words)\n",
        "\n",
        "# # # # restore np.load for future normal usage\n",
        "# np.load = np_load_old"
      ],
      "execution_count": 0,
      "outputs": []
    },
    {
      "cell_type": "markdown",
      "metadata": {
        "id": "w1xO4uEQL1Av",
        "colab_type": "text"
      },
      "source": [
        "### Explore Data\n",
        "In exploring the data as suggested in the task pdf, I looked at the words in the sixth review of the training dataset."
      ]
    },
    {
      "cell_type": "code",
      "metadata": {
        "ExecuteTime": {
          "end_time": "2019-07-21T15:12:34.510846Z",
          "start_time": "2019-07-21T15:12:34.444580Z"
        },
        "id": "foiQTdRzL1Aw",
        "colab_type": "code",
        "colab": {},
        "outputId": "d99f775d-8715-41dc-ad2b-45510c5ed095"
      },
      "source": [
        "# create and instance that contains the words in the word index\n",
        "word2_id = imdb.get_word_index()\n",
        "# Now using a for loop that accesses the items in the index one by one, we assign them all\n",
        "# to a variable.\n",
        "id2word = {i: word for word, i in word2_id.items()}\n",
        "# Here we print the words contained in the sixth review in the dataset.\n",
        "print([id2word.get(i, '') for i in x_train[6]])"
      ],
      "execution_count": 0,
      "outputs": [
        {
          "output_type": "stream",
          "text": [
            "['the', 'boiled', 'full', 'involving', 'to', 'impressive', 'boring', 'this', 'as', 'murdering', 'naschy', 'br', 'villain', 'and', 'suggestion', 'need', 'has', 'of', 'costumes', 'b', 'message', 'to', 'may', 'of', 'props', 'this', 'and', 'concentrates', 'concept', 'issue', 'skeptical', 'to', \"god's\", 'he', 'is', 'and', 'unfolds', 'movie', 'women', 'like', \"isn't\", 'surely', \"i'm\", 'and', 'to', 'toward', 'in', \"here's\", 'for', 'from', 'did', 'having', 'because', 'very', 'quality', 'it', 'is', 'and', 'starship', 'really', 'book', 'is', 'both', 'too', 'worked', 'carl', 'of', 'and', 'br', 'of', 'reviewer', 'closer', 'figure', 'really', 'there', 'will', 'originals', 'things', 'is', 'far', 'this', 'make', 'mistakes', 'and', 'was', \"couldn't\", 'of', 'few', 'br', 'of', 'you', 'to', \"don't\", 'female', 'than', 'place', 'she', 'to', 'was', 'between', 'that', 'nothing', 'dose', 'movies', 'get', 'are', 'and', 'br', 'yes', 'female', 'just', 'its', 'because', 'many', 'br', 'of', 'overly', 'to', 'descent', 'people', 'time', 'very', 'bland']\n"
          ],
          "name": "stdout"
        }
      ]
    },
    {
      "cell_type": "markdown",
      "metadata": {
        "id": "BkMB0f_HL1A5",
        "colab_type": "text"
      },
      "source": [
        "### Pre-processing the data\n",
        "Here I need to note something. The pdf suggested that a length of 500 words should be utilsed for this task. My experience brought me to a place that no matter how I tried to tweak the parameters of my model, I could not get a better result than 50% accuracy on my test evaluation. This is extremely poor and so, through trial and error I found 200 to be a good measure for getting decent results for this task. Even 230 words still did not yield good results. See model 2 with a single LSTM layer.<br>\n",
        "It is also important to note that I utilised 5000 features at first for my num_words variable but found that it generated too little parameters to yield good results. Anyhow...let's limit and pad the reviews."
      ]
    },
    {
      "cell_type": "code",
      "metadata": {
        "ExecuteTime": {
          "end_time": "2019-07-21T15:12:36.392193Z",
          "start_time": "2019-07-21T15:12:35.596663Z"
        },
        "id": "af0cMHVAL1A7",
        "colab_type": "code",
        "colab": {}
      },
      "source": [
        "# Set the maximum length for each review\n",
        "max_len = 200\n",
        "# Pre-process the training and test data with the pad_sequences method. I chose 'post' padding here as I want\n",
        "# the algorithm to process the endcoded words first.\n",
        "x_train = keras.preprocessing.sequence.pad_sequences(x_train, maxlen=max_len, dtype='int32', padding='post', \n",
        "                                                     truncating='post', value=0.0)\n",
        "x_test = keras.preprocessing.sequence.pad_sequences(x_test, maxlen=max_len, dtype='int32', padding='post', \n",
        "                                                     truncating='post', value=0.0)"
      ],
      "execution_count": 0,
      "outputs": []
    },
    {
      "cell_type": "markdown",
      "metadata": {
        "id": "kRifVBqvL1BB",
        "colab_type": "text"
      },
      "source": [
        "After the pre-processing I was curious to see in what shape the data was, so below just a couple of exlorations on the newly shaped data :)"
      ]
    },
    {
      "cell_type": "code",
      "metadata": {
        "ExecuteTime": {
          "end_time": "2019-07-21T15:12:37.329172Z",
          "start_time": "2019-07-21T15:12:37.324806Z"
        },
        "id": "ePwGdS-uL1BD",
        "colab_type": "code",
        "colab": {},
        "outputId": "c3819bbf-90ab-47da-caa8-367b79c26891"
      },
      "source": [
        "# Print a couple of instances\n",
        "print(len(x_train[6000]))\n",
        "print(len(x_test[6000]))\n",
        "print(y_train[6000])\n",
        "print(y_test)"
      ],
      "execution_count": 0,
      "outputs": [
        {
          "output_type": "stream",
          "text": [
            "200\n",
            "200\n",
            "0\n",
            "[0 1 1 ... 0 0 0]\n"
          ],
          "name": "stdout"
        }
      ]
    },
    {
      "cell_type": "code",
      "metadata": {
        "ExecuteTime": {
          "end_time": "2019-07-21T15:12:38.824272Z",
          "start_time": "2019-07-21T15:12:38.820298Z"
        },
        "id": "HwWuDTB8L1BI",
        "colab_type": "code",
        "colab": {},
        "outputId": "144f47d2-ff6f-4572-8b30-fad3b44b85f0"
      },
      "source": [
        "# Our training length is now set at 200 words.\n",
        "len(x_train[24999])"
      ],
      "execution_count": 0,
      "outputs": [
        {
          "output_type": "execute_result",
          "data": {
            "text/plain": [
              "200"
            ]
          },
          "metadata": {
            "tags": []
          },
          "execution_count": 10
        }
      ]
    },
    {
      "cell_type": "code",
      "metadata": {
        "ExecuteTime": {
          "end_time": "2019-07-21T15:12:39.231419Z",
          "start_time": "2019-07-21T15:12:39.227775Z"
        },
        "id": "gOPHCZmzL1BN",
        "colab_type": "code",
        "colab": {},
        "outputId": "36327de0-b5c2-43f3-9f16-0dafd48f2777"
      },
      "source": [
        "# The shape of the training data shows how the pad_sequences method worked its magic.\n",
        "x_train.shape"
      ],
      "execution_count": 0,
      "outputs": [
        {
          "output_type": "execute_result",
          "data": {
            "text/plain": [
              "(25000, 200)"
            ]
          },
          "metadata": {
            "tags": []
          },
          "execution_count": 11
        }
      ]
    },
    {
      "cell_type": "code",
      "metadata": {
        "ExecuteTime": {
          "end_time": "2019-07-21T15:12:41.866110Z",
          "start_time": "2019-07-21T15:12:41.862444Z"
        },
        "id": "_trCj0ePL1BS",
        "colab_type": "code",
        "colab": {},
        "outputId": "4b1b7419-20e3-40b1-ba9c-03753b54d4c3"
      },
      "source": [
        "# Our test data is also now in the correct shape for validation.\n",
        "x_test.shape"
      ],
      "execution_count": 0,
      "outputs": [
        {
          "output_type": "execute_result",
          "data": {
            "text/plain": [
              "(25000, 200)"
            ]
          },
          "metadata": {
            "tags": []
          },
          "execution_count": 12
        }
      ]
    },
    {
      "cell_type": "markdown",
      "metadata": {
        "id": "8rbjNJFlL1BV",
        "colab_type": "text"
      },
      "source": [
        "### Build Model\n",
        "For this task I decided to construct two types of RNN models. A single LSTM layer RNN and a multi LSTM layer RNN.\n",
        "### Single LSTM layer RNN\n",
        "The first function I have created constructed a model with a single LSTM layer and a preceding embedding layer and as final layer, a dense layer."
      ]
    },
    {
      "cell_type": "code",
      "metadata": {
        "ExecuteTime": {
          "end_time": "2019-07-20T08:00:40.838565Z",
          "start_time": "2019-07-20T08:00:40.832924Z"
        },
        "id": "k3E8AFMgL1BW",
        "colab_type": "code",
        "colab": {}
      },
      "source": [
        "def build_run_model(model, numWords, output, inputLength, batch_size, epochs):\n",
        "    '''This function constructs a single LSTM layer RNN training and evaluation model.\n",
        "    It prints out a summary of the constructed model as well as each training epoch \n",
        "    with training and val loss and test scores.\n",
        "\n",
        "    The arguments received for this function are as follows;\n",
        "    a) model - Just a string with the model number.\n",
        "    b) numWords - This corresponds to the same number as the num_words\n",
        "       argument when the data is loaded.\n",
        "    c) output - This is the number of neurons we want from the Embedding to the\n",
        "       first LSTM layer.\n",
        "    d) inputLength - This parameter corresponds to the max_len variable which is where\n",
        "       we limited (with the pad_sequences method) the amount of words in the review\n",
        "       of each movie.\n",
        "    e) batch_size - This is the amount of instances processed at a time in each epoch\n",
        "       untill the 25000 training and testing instances are covered.\n",
        "    f) epochs - The amount of times the 25000 training and testing instances will be\n",
        "       processed with the batch size.'''\n",
        "    \n",
        "    # ===================\n",
        "    # CONSTRUCT THE MODEL\n",
        "    # ===================\n",
        "    # Construct the model with a single LSTM layer\n",
        "    model = Sequential()\n",
        "    model.add(Embedding(numWords, output, input_length=inputLength))\n",
        "    model.add(LSTM(output, dropout=0.2, recurrent_dropout=0.2))\n",
        "    model.add(Dense(1, activation='sigmoid'))\n",
        "    # Print out a summary of the model\n",
        "    model.summary()\n",
        "    # Compile the model and set the loss, optimizer and metrics parameters\n",
        "    model.compile(loss='binary_crossentropy',\n",
        "                  optimizer='adam',\n",
        "                  metrics=['accuracy'])\n",
        "    # Fit the model and print the evaluation results\n",
        "    \n",
        "    # ===============\n",
        "    # TRAIN THE MODEL\n",
        "    # ===============\n",
        "    print('Train...')\n",
        "    model.fit(x_train, y_train,\n",
        "              batch_size=batch_size,\n",
        "              epochs=epochs,\n",
        "              validation_data=(x_test, y_test))\n",
        "    \n",
        "    # ==================\n",
        "    # EVALUATE THE MODEL\n",
        "    # ==================\n",
        "    score, acc = model.evaluate(x_test, y_test,\n",
        "                                batch_size=batch_size)\n",
        "    print('Test score:', score)\n",
        "    print('Test accuracy:', acc)"
      ],
      "execution_count": 0,
      "outputs": []
    },
    {
      "cell_type": "markdown",
      "metadata": {
        "id": "BsESPKYyL1Ba",
        "colab_type": "text"
      },
      "source": [
        "#### Model 1\n",
        "\n",
        "With a batch size of 128 and 10 epochs this model trained and tested very close to the best model (Model 2 - Multi LSTM Layer) I have created. With a Training accuracy 89.9% and Testing accuracy of 84.776% I must be honest I was looking for something a little better. So I tried..."
      ]
    },
    {
      "cell_type": "code",
      "metadata": {
        "ExecuteTime": {
          "end_time": "2019-07-19T14:00:12.533025Z",
          "start_time": "2019-07-19T13:37:49.641671Z"
        },
        "id": "OKWSdAjvL1Bb",
        "colab_type": "code",
        "colab": {},
        "outputId": "6c414546-01dd-4bcd-b63e-6dbae010fcf6"
      },
      "source": [
        "# num_words = 10000, max_len = 200, LSTM output = 125, batch size = 128, epochs = 10\n",
        "build_run_model('model1', num_words, 125, max_len, 128, 10)"
      ],
      "execution_count": 0,
      "outputs": [
        {
          "output_type": "stream",
          "text": [
            "Model: \"sequential_8\"\n",
            "_________________________________________________________________\n",
            "Layer (type)                 Output Shape              Param #   \n",
            "=================================================================\n",
            "embedding_8 (Embedding)      (None, 200, 125)          1250000   \n",
            "_________________________________________________________________\n",
            "lstm_7 (LSTM)                (None, 125)               125500    \n",
            "_________________________________________________________________\n",
            "dense_7 (Dense)              (None, 1)                 126       \n",
            "=================================================================\n",
            "Total params: 1,375,626\n",
            "Trainable params: 1,375,626\n",
            "Non-trainable params: 0\n",
            "_________________________________________________________________\n",
            "Train...\n",
            "Train on 25000 samples, validate on 25000 samples\n",
            "Epoch 1/10\n",
            "25000/25000 [==============================] - 130s 5ms/sample - loss: 0.6778 - accuracy: 0.5590 - val_loss: 0.5943 - val_accuracy: 0.7250\n",
            "Epoch 2/10\n",
            "25000/25000 [==============================] - 131s 5ms/sample - loss: 0.6232 - accuracy: 0.6594 - val_loss: 0.5889 - val_accuracy: 0.6919\n",
            "Epoch 3/10\n",
            "25000/25000 [==============================] - 131s 5ms/sample - loss: 0.5552 - accuracy: 0.7292 - val_loss: 0.6370 - val_accuracy: 0.6372\n",
            "Epoch 4/10\n",
            "25000/25000 [==============================] - 131s 5ms/sample - loss: 0.6429 - accuracy: 0.6029 - val_loss: 0.6177 - val_accuracy: 0.6850\n",
            "Epoch 5/10\n",
            "25000/25000 [==============================] - 131s 5ms/sample - loss: 0.4871 - accuracy: 0.7856 - val_loss: 0.5078 - val_accuracy: 0.7894\n",
            "Epoch 6/10\n",
            "25000/25000 [==============================] - 131s 5ms/sample - loss: 0.4421 - accuracy: 0.8202 - val_loss: 0.6469 - val_accuracy: 0.6996\n",
            "Epoch 7/10\n",
            "25000/25000 [==============================] - 131s 5ms/sample - loss: 0.4382 - accuracy: 0.8168 - val_loss: 0.4974 - val_accuracy: 0.7668\n",
            "Epoch 8/10\n",
            "25000/25000 [==============================] - 126s 5ms/sample - loss: 0.4229 - accuracy: 0.8149 - val_loss: 0.6472 - val_accuracy: 0.5339\n",
            "Epoch 9/10\n",
            "25000/25000 [==============================] - 126s 5ms/sample - loss: 0.3834 - accuracy: 0.8389 - val_loss: 0.3921 - val_accuracy: 0.8346\n",
            "Epoch 10/10\n",
            "25000/25000 [==============================] - 130s 5ms/sample - loss: 0.2657 - accuracy: 0.8997 - val_loss: 0.3812 - val_accuracy: 0.8478\n",
            "25000/25000 [==============================] - 45s 2ms/sample - loss: 0.3812 - accuracy: 0.8478\n",
            "Test score: 0.3812418946456909\n",
            "Test accuracy: 0.84776\n"
          ],
          "name": "stdout"
        }
      ]
    },
    {
      "cell_type": "markdown",
      "metadata": {
        "id": "X2cdKzIjL1Be",
        "colab_type": "text"
      },
      "source": [
        "#### Model 2\n",
        "With this model I just wanted to show what I have experienced for the first couple of models that I have constructed. With a maximum length of 230 I could not achieve better results than 50% accuracy. This was the case for many lengths that I have tried from 500 downwards."
      ]
    },
    {
      "cell_type": "code",
      "metadata": {
        "ExecuteTime": {
          "end_time": "2019-07-19T14:28:35.913495Z",
          "start_time": "2019-07-19T14:02:27.619160Z"
        },
        "id": "Edp2QD_ZL1Be",
        "colab_type": "code",
        "colab": {},
        "outputId": "a1865679-3375-4208-f2da-9d0e113e2cd2"
      },
      "source": [
        "# num_words = 10000, max_len = 230, LSTM ouput = 125, batch size = 128, epochs = 10\n",
        "build_run_model('model1', num_words, 125, max_len, 128, 10)"
      ],
      "execution_count": 0,
      "outputs": [
        {
          "output_type": "stream",
          "text": [
            "Model: \"sequential_9\"\n",
            "_________________________________________________________________\n",
            "Layer (type)                 Output Shape              Param #   \n",
            "=================================================================\n",
            "embedding_9 (Embedding)      (None, 230, 125)          1250000   \n",
            "_________________________________________________________________\n",
            "lstm_8 (LSTM)                (None, 125)               125500    \n",
            "_________________________________________________________________\n",
            "dense_8 (Dense)              (None, 1)                 126       \n",
            "=================================================================\n",
            "Total params: 1,375,626\n",
            "Trainable params: 1,375,626\n",
            "Non-trainable params: 0\n",
            "_________________________________________________________________\n",
            "Train...\n",
            "Train on 25000 samples, validate on 25000 samples\n",
            "Epoch 1/10\n",
            "25000/25000 [==============================] - 154s 6ms/sample - loss: 0.6936 - accuracy: 0.4933 - val_loss: 0.6931 - val_accuracy: 0.5000\n",
            "Epoch 2/10\n",
            "25000/25000 [==============================] - 152s 6ms/sample - loss: 0.6934 - accuracy: 0.4986 - val_loss: 0.6932 - val_accuracy: 0.5000\n",
            "Epoch 3/10\n",
            "25000/25000 [==============================] - 152s 6ms/sample - loss: 0.6933 - accuracy: 0.4982 - val_loss: 0.6933 - val_accuracy: 0.5000\n",
            "Epoch 4/10\n",
            "25000/25000 [==============================] - 152s 6ms/sample - loss: 0.6932 - accuracy: 0.5033 - val_loss: 0.6932 - val_accuracy: 0.5000\n",
            "Epoch 5/10\n",
            "25000/25000 [==============================] - 149s 6ms/sample - loss: 0.6933 - accuracy: 0.5006 - val_loss: 0.6932 - val_accuracy: 0.5000\n",
            "Epoch 6/10\n",
            "25000/25000 [==============================] - 149s 6ms/sample - loss: 0.6933 - accuracy: 0.4992 - val_loss: 0.6932 - val_accuracy: 0.5000\n",
            "Epoch 7/10\n",
            "25000/25000 [==============================] - 151s 6ms/sample - loss: 0.6933 - accuracy: 0.4954 - val_loss: 0.6932 - val_accuracy: 0.5000\n",
            "Epoch 8/10\n",
            "25000/25000 [==============================] - 149s 6ms/sample - loss: 0.6932 - accuracy: 0.4975 - val_loss: 0.6932 - val_accuracy: 0.5000\n",
            "Epoch 9/10\n",
            "25000/25000 [==============================] - 152s 6ms/sample - loss: 0.6932 - accuracy: 0.5006 - val_loss: 0.6931 - val_accuracy: 0.5000\n",
            "Epoch 10/10\n",
            "25000/25000 [==============================] - 154s 6ms/sample - loss: 0.6933 - accuracy: 0.4972 - val_loss: 0.6932 - val_accuracy: 0.5000\n",
            "25000/25000 [==============================] - 53s 2ms/sample - loss: 0.6932 - accuracy: 0.5000\n",
            "Test score: 0.6931559120750427\n",
            "Test accuracy: 0.5\n"
          ],
          "name": "stdout"
        }
      ]
    },
    {
      "cell_type": "markdown",
      "metadata": {
        "id": "4ZF1MxR7L1Bi",
        "colab_type": "text"
      },
      "source": [
        "#### Model 3\n",
        "A classic example of overfitting where the training scores are great at 99.9% for accuracy and 0.2 for loss respectively but the testing accuracy and loss not converging. The loss for testing, for example, climbed to a crazy value of 1.22."
      ]
    },
    {
      "cell_type": "code",
      "metadata": {
        "ExecuteTime": {
          "end_time": "2019-07-19T16:26:19.306094Z",
          "start_time": "2019-07-19T14:50:43.082047Z"
        },
        "id": "eAljbUloL1Bj",
        "colab_type": "code",
        "colab": {},
        "outputId": "e8198c88-342f-4181-fd14-ba6d9accfbc3"
      },
      "source": [
        "# max_len = 200, output of LSTM = 125, max_words = 10000, batch size = 25, epochs = 25\n",
        "build_run_model('model1', num_words, 125, max_len, 25, 25)"
      ],
      "execution_count": 0,
      "outputs": [
        {
          "output_type": "stream",
          "text": [
            "Model: \"sequential_2\"\n",
            "_________________________________________________________________\n",
            "Layer (type)                 Output Shape              Param #   \n",
            "=================================================================\n",
            "embedding_2 (Embedding)      (None, 200, 125)          1250000   \n",
            "_________________________________________________________________\n",
            "lstm_2 (LSTM)                (None, 125)               125500    \n",
            "_________________________________________________________________\n",
            "dense_2 (Dense)              (None, 1)                 126       \n",
            "=================================================================\n",
            "Total params: 1,375,626\n",
            "Trainable params: 1,375,626\n",
            "Non-trainable params: 0\n",
            "_________________________________________________________________\n",
            "Train...\n",
            "Train on 25000 samples, validate on 25000 samples\n",
            "Epoch 1/25\n",
            "25000/25000 [==============================] - 233s 9ms/sample - loss: 0.6780 - accuracy: 0.5586 - val_loss: 0.6965 - val_accuracy: 0.5049\n",
            "Epoch 2/25\n",
            "25000/25000 [==============================] - 227s 9ms/sample - loss: 0.6121 - accuracy: 0.6627 - val_loss: 0.5457 - val_accuracy: 0.7503\n",
            "Epoch 3/25\n",
            "25000/25000 [==============================] - 227s 9ms/sample - loss: 0.5463 - accuracy: 0.7261 - val_loss: 0.5242 - val_accuracy: 0.7641\n",
            "Epoch 4/25\n",
            "25000/25000 [==============================] - 227s 9ms/sample - loss: 0.3328 - accuracy: 0.8587 - val_loss: 0.3614 - val_accuracy: 0.8490\n",
            "Epoch 5/25\n",
            "25000/25000 [==============================] - 229s 9ms/sample - loss: 0.2168 - accuracy: 0.9163 - val_loss: 0.3552 - val_accuracy: 0.8554\n",
            "Epoch 6/25\n",
            "25000/25000 [==============================] - 227s 9ms/sample - loss: 0.1562 - accuracy: 0.9454 - val_loss: 0.4032 - val_accuracy: 0.8488\n",
            "Epoch 7/25\n",
            "25000/25000 [==============================] - 226s 9ms/sample - loss: 0.1119 - accuracy: 0.9631 - val_loss: 0.4863 - val_accuracy: 0.8443\n",
            "Epoch 8/25\n",
            "25000/25000 [==============================] - 226s 9ms/sample - loss: 0.0762 - accuracy: 0.9768 - val_loss: 0.5249 - val_accuracy: 0.8404\n",
            "Epoch 9/25\n",
            "25000/25000 [==============================] - 227s 9ms/sample - loss: 0.0517 - accuracy: 0.9843 - val_loss: 0.6029 - val_accuracy: 0.8382\n",
            "Epoch 10/25\n",
            "25000/25000 [==============================] - 226s 9ms/sample - loss: 0.0387 - accuracy: 0.9893 - val_loss: 0.6981 - val_accuracy: 0.8364\n",
            "Epoch 11/25\n",
            "25000/25000 [==============================] - 226s 9ms/sample - loss: 0.0301 - accuracy: 0.9923 - val_loss: 0.7563 - val_accuracy: 0.8379\n",
            "Epoch 12/25\n",
            "25000/25000 [==============================] - 226s 9ms/sample - loss: 0.0233 - accuracy: 0.9945 - val_loss: 0.7845 - val_accuracy: 0.8334\n",
            "Epoch 13/25\n",
            "25000/25000 [==============================] - 227s 9ms/sample - loss: 0.0214 - accuracy: 0.9942 - val_loss: 0.8064 - val_accuracy: 0.8306\n",
            "Epoch 14/25\n",
            "25000/25000 [==============================] - 226s 9ms/sample - loss: 0.0159 - accuracy: 0.9962 - val_loss: 0.8563 - val_accuracy: 0.8313\n",
            "Epoch 15/25\n",
            "25000/25000 [==============================] - 227s 9ms/sample - loss: 0.0139 - accuracy: 0.9967 - val_loss: 0.8429 - val_accuracy: 0.8269\n",
            "Epoch 16/25\n",
            "25000/25000 [==============================] - 227s 9ms/sample - loss: 0.0133 - accuracy: 0.9964 - val_loss: 0.9101 - val_accuracy: 0.8311\n",
            "Epoch 17/25\n",
            "25000/25000 [==============================] - 227s 9ms/sample - loss: 0.0108 - accuracy: 0.9973 - val_loss: 0.9442 - val_accuracy: 0.8286\n",
            "Epoch 18/25\n",
            "25000/25000 [==============================] - 227s 9ms/sample - loss: 0.0093 - accuracy: 0.9977 - val_loss: 0.9852 - val_accuracy: 0.8294\n",
            "Epoch 19/25\n",
            "25000/25000 [==============================] - 226s 9ms/sample - loss: 0.0074 - accuracy: 0.9982 - val_loss: 1.0511 - val_accuracy: 0.8283\n",
            "Epoch 20/25\n",
            "25000/25000 [==============================] - 224s 9ms/sample - loss: 0.0057 - accuracy: 0.9986 - val_loss: 0.9818 - val_accuracy: 0.8257\n",
            "Epoch 21/25\n",
            "25000/25000 [==============================] - 224s 9ms/sample - loss: 0.0055 - accuracy: 0.9985 - val_loss: 1.0641 - val_accuracy: 0.8288\n",
            "Epoch 22/25\n",
            "25000/25000 [==============================] - 224s 9ms/sample - loss: 0.0057 - accuracy: 0.9985 - val_loss: 1.0528 - val_accuracy: 0.8288\n",
            "Epoch 23/25\n",
            "25000/25000 [==============================] - 224s 9ms/sample - loss: 0.0057 - accuracy: 0.9985 - val_loss: 1.1514 - val_accuracy: 0.8312\n",
            "Epoch 24/25\n",
            "25000/25000 [==============================] - 224s 9ms/sample - loss: 0.0026 - accuracy: 0.9992 - val_loss: 1.2290 - val_accuracy: 0.8241\n",
            "Epoch 25/25\n",
            "25000/25000 [==============================] - 225s 9ms/sample - loss: 0.0027 - accuracy: 0.9994 - val_loss: 1.2229 - val_accuracy: 0.8246\n",
            "25000/25000 [==============================] - 76s 3ms/sample - loss: 1.2229 - accuracy: 0.8246\n",
            "Test score: 1.2228526597099263\n",
            "Test accuracy: 0.8246\n"
          ],
          "name": "stdout"
        }
      ]
    },
    {
      "cell_type": "markdown",
      "metadata": {
        "id": "jza_Q8sDL1Bn",
        "colab_type": "text"
      },
      "source": [
        "### Multi LSTM layer RNN\n",
        "The below function might be big but I needed to get all the functionality into it to prevent me from creating lengthy models and repetitive code. It delivers all the needed outputs required for the training, testing and evaluation of the dataset as well as the predicting required for the task to see if the model delivers results.\n",
        "Please bare with me ;)"
      ]
    },
    {
      "cell_type": "code",
      "metadata": {
        "ExecuteTime": {
          "end_time": "2019-07-21T15:12:51.707454Z",
          "start_time": "2019-07-21T15:12:51.693020Z"
        },
        "id": "WzGxEMQML1Bn",
        "colab_type": "code",
        "colab": {}
      },
      "source": [
        "def build_run_model_mul(model, numWords, output, lstm2_out, inputLength, batch_size, epochs):\n",
        "    '''This function builds a multi LSTM layer Recurrent Neural Network training and testing model.\n",
        "    It also does the following:\n",
        "    1) It prints the model evaluation score and accuracy.\n",
        "    2) It plots the training history per epoch. This history is\n",
        "    plotted as training over validation loss.\n",
        "    3) It makes two predictions utilising the model. If the value of the prediction result is greater\n",
        "    than 0.5, then it is a positive review. If less than, then it is a negative review. For the predictions, \n",
        "    I created two reviews assigned to two variables in the function.\n",
        "    \n",
        "    The arguments received for this function are as follows;\n",
        "    a) model - Just a string with the model number.\n",
        "    b) numWords - This corresponds to the same number as the num_words\n",
        "       argument when the data is loaded.\n",
        "    c) output - This is the number of neurons we want from the Embedding to the\n",
        "       first LSTM layer.\n",
        "    d) lstm2_out - The amount of neurons in the second LSTM layer to our Dense layer\n",
        "    e) inputLength - This parameter corresponds to the max_len variable which is where\n",
        "       we limited (with the pad_sequences method) the amount of words in the review\n",
        "       of each movie.\n",
        "    f) batch_size - This is the amount of instances processed at a time in each epoch\n",
        "       untill the 25000 training and testing instances are covered.\n",
        "    g) epochs - The amount of times the 25000 training and testing instances will be\n",
        "       processed with the batch size.\n",
        "    '''\n",
        "    # ===================\n",
        "    # CONSTRUCT THE MODEL\n",
        "    # ===================\n",
        "    model = Sequential()\n",
        "    model.add(Embedding(numWords, output, input_length=inputLength))\n",
        "    # After the Embedding layer add the two LSTM layers\n",
        "    # For the first LSTM layer the return sequences must be set to True\n",
        "    # An input shape is also required and here, it is set to (2, 1) to fit to the data.\n",
        "    model.add(LSTM(output, dropout=0.2, recurrent_dropout=0.2,\n",
        "                   return_sequences=True, input_shape=(2, 1)))\n",
        "    model.add(LSTM(lstm2_out, dropout=0.2, recurrent_dropout=0.2))\n",
        "    # After the LSTM layers we add a Dense layer with sigmoid activation.\n",
        "    model.add(Dense(1, activation='sigmoid'))\n",
        "    # Here we print the model summary\n",
        "    model.summary()\n",
        "    # Compile the model with the loss, optimizer and metrics set appropriately\n",
        "    model.compile(loss='binary_crossentropy',\n",
        "                  optimizer='adam',\n",
        "                  metrics=['accuracy'])\n",
        "    # ===============\n",
        "    # TRAIN THE MODEL\n",
        "    # ===============\n",
        "    print('Train...')\n",
        "    # set the model.fit function to a variable for plotting later on.\n",
        "    # The relevant parameters here besides the training and validation data\n",
        "    # is set when the function is called, i.e. epochs & batch_size\n",
        "    history = model.fit(x_train, y_train,\n",
        "                        batch_size=batch_size,\n",
        "                        epochs=epochs,\n",
        "                        validation_data=(x_test, y_test))\n",
        "    # set the model.evalation function to two variables\n",
        "    # and print the score and accuracy\n",
        "    \n",
        "    # ==================\n",
        "    # EVALUATE THE MODEL\n",
        "    # ==================\n",
        "    score, acc = model.evaluate(x_test, y_test,\n",
        "                                batch_size=batch_size)\n",
        "    print('Test score:', score)\n",
        "    print('Test accuracy:', acc)\n",
        "    # Plot the model training and evalution history\n",
        "    # for analysis.\n",
        "    plt.plot(history.history['loss'])\n",
        "    plt.plot(history.history['val_loss'])\n",
        "    plt.title('model train vs validation loss')\n",
        "    plt.ylabel('loss')\n",
        "    plt.xlabel('epoch')\n",
        "    plt.legend(['train', 'validation'], loc='upper right')\n",
        "    plt.show()\n",
        "\n",
        "    # =================\n",
        "    # MAKE A PREDICTION\n",
        "    # =================\n",
        "    # Here we will make to predictions with the model trained. One 1) negative review and one 2) positive review\n",
        "    print(\"Making a prediction on the following reviews:\")\n",
        "    print(\"1) The movie was a great waste of my time. The storyline didn't catch my attention or interest\")\n",
        "    print(\"2) That was one of the better movies I have seen this year. I loved the plot and thoroughly enjoyed the action.\")\n",
        "    # creaate an instance of the word index\n",
        "    word_index = keras.datasets.imdb.get_word_index()\n",
        "    # assign the review to variable, split the words in the sentence.\n",
        "    review1 = \"the movie was a great waste of my time. The storyline didn't catch my attention or interest\"\n",
        "    words1 = review1.split()\n",
        "    review1 = []\n",
        "    # create a for loop that checks whether the words in the review are in the index, if not, give a number two\n",
        "    # to the word and append it to the review list. Keras established this to be the number value\n",
        "    # for words not in the index. The else conditional takes the words in the review that are in the word index\n",
        "    # and assign to it the relevant number. The +3 is to offset for the first four numbers allocated to special\n",
        "    # values by Keras.\n",
        "    for word in words1:\n",
        "        if word not in word_index:\n",
        "            review1.append(2)\n",
        "        else:\n",
        "            review1.append(word_index[word]+3)\n",
        "    review1 = keras.preprocessing.sequence.pad_sequences([review1],\n",
        "                                                         truncating='post', padding='post', maxlen=max_len)\n",
        "    prediction1 = model.predict(review1)\n",
        "    print(\"Prediction 1 (0 = negative, 1 = positive) = \", end=\"\")\n",
        "    print(\"%0.4f\" % prediction1[0][0])\n",
        "    # The same comments that apply to review1 applies to review2\n",
        "    review2 = \"That was one of the better movies I have seen this year. I loved the plot and thoroughly enjoyed the action\"\n",
        "    words2 = review2.split()\n",
        "    review2 = []\n",
        "    for word in words2:\n",
        "        if word not in word_index:\n",
        "            review2.append(2)\n",
        "        else:\n",
        "            review2.append(word_index[word]+3)\n",
        "    review2 = keras.preprocessing.sequence.pad_sequences([review2],\n",
        "                                                         truncating='post', padding='post', maxlen=max_len)\n",
        "    prediction2 = model.predict(review2)\n",
        "    print(\"Prediction 2 (0 = negative, 1 = positive) = \", end=\"\")\n",
        "    print(\"%0.4f\" % prediction2[0][0])"
      ],
      "execution_count": 0,
      "outputs": []
    },
    {
      "cell_type": "markdown",
      "metadata": {
        "id": "sxxhvX4uL1Bq",
        "colab_type": "text"
      },
      "source": [
        "#### Model 1\n",
        "The first multi LSTM layer model displays underfitting as we did not train the model with enough epochs so the data did not have enough time to converge. It was good however to test all the parameters for the function :)"
      ]
    },
    {
      "cell_type": "code",
      "metadata": {
        "ExecuteTime": {
          "end_time": "2019-07-21T14:17:47.482765Z",
          "start_time": "2019-07-21T14:13:50.479538Z"
        },
        "id": "IwUNVnr-L1Bs",
        "colab_type": "code",
        "colab": {},
        "outputId": "711c5fdf-875f-495b-f0be-c54653be1953"
      },
      "source": [
        "# num_words = 10000, max_len = 200, 50 outputs on the first LSTM and 25 on the next. Batch size = 100, epochs = 2\n",
        "build_run_model_mul('model3', num_words, 50, 25, max_len, 100, 2)"
      ],
      "execution_count": 0,
      "outputs": [
        {
          "output_type": "stream",
          "text": [
            "Model: \"sequential_11\"\n",
            "_________________________________________________________________\n",
            "Layer (type)                 Output Shape              Param #   \n",
            "=================================================================\n",
            "embedding_11 (Embedding)     (None, 200, 50)           500000    \n",
            "_________________________________________________________________\n",
            "lstm_22 (LSTM)               (None, 200, 50)           20200     \n",
            "_________________________________________________________________\n",
            "lstm_23 (LSTM)               (None, 25)                7600      \n",
            "_________________________________________________________________\n",
            "dense_11 (Dense)             (None, 1)                 26        \n",
            "=================================================================\n",
            "Total params: 527,826\n",
            "Trainable params: 527,826\n",
            "Non-trainable params: 0\n",
            "_________________________________________________________________\n",
            "Train...\n",
            "Train on 25000 samples, validate on 25000 samples\n",
            "Epoch 1/2\n",
            "25000/25000 [==============================] - 101s 4ms/sample - loss: 0.6937 - accuracy: 0.5132 - val_loss: 0.6891 - val_accuracy: 0.5528\n",
            "Epoch 2/2\n",
            "25000/25000 [==============================] - 98s 4ms/sample - loss: 0.6346 - accuracy: 0.6473 - val_loss: 0.5830 - val_accuracy: 0.7219\n",
            "25000/25000 [==============================] - 33s 1ms/sample - loss: 0.5830 - accuracy: 0.7219\n",
            "Test score: 0.5829723453521729\n",
            "Test accuracy: 0.72192\n"
          ],
          "name": "stdout"
        },
        {
          "output_type": "display_data",
          "data": {
            "image/png": "[encoded data removed]",
            "text/plain": [
              "<Figure size 432x288 with 1 Axes>"
            ]
          },
          "metadata": {
            "tags": [],
            "needs_background": "light"
          }
        },
        {
          "output_type": "stream",
          "text": [
            "Making a prediction on the following reviews:\n",
            "1) The movie was a great waste of my time. The storyline didn't catch my attention or interest\n",
            "2) That was one of the better movies I have seen this year. I loved the plot and thoroughly enjoyed the action.\n",
            "Prediction 1 (0 = negative, 1 = positive) = 0.2590\n",
            "Prediction 2 (0 = negative, 1 = positive) = 0.6659\n"
          ],
          "name": "stdout"
        }
      ]
    },
    {
      "cell_type": "markdown",
      "metadata": {
        "id": "XlsDriXPL1Bv",
        "colab_type": "text"
      },
      "source": [
        "#### Model 2\n",
        "My best effort for this task! This model with 100 outputs in the first LSTM layer, 25 in the next, a batch size of 100 and 11 epochs, delivered for me acceptable results for this task. The training and testing losses did not converge completely but the predictions speak for itself. By utilising a highly positive and highly negative review created myself, the model managed to predict maximum results for a positive and a negative review. These resulted to values of 0.85 and 0.04 respectively. For analysis, if the prediction is greater than 0.5, then it is positive, if less than, then it is negative. <br>I loved doing this task and I will probably learn more on how to optimize parameters to achieve state of the art performance in the near future. I hope you enjoyed this with me!!! Stay well."
      ]
    },
    {
      "cell_type": "code",
      "metadata": {
        "ExecuteTime": {
          "end_time": "2019-07-21T15:10:07.554075Z",
          "start_time": "2019-07-21T14:40:00.702100Z"
        },
        "id": "whPRM4gsL1Bv",
        "colab_type": "code",
        "colab": {},
        "outputId": "bbb5abcc-c78e-490d-aea2-8e4342968cae"
      },
      "source": [
        "# num_words = 10000, max_len = 200\n",
        "build_run_model_mul('model5', num_words, 100, 25, max_len, 100, 11)"
      ],
      "execution_count": 0,
      "outputs": [
        {
          "output_type": "stream",
          "text": [
            "Model: \"sequential_2\"\n",
            "_________________________________________________________________\n",
            "Layer (type)                 Output Shape              Param #   \n",
            "=================================================================\n",
            "embedding_2 (Embedding)      (None, 200, 100)          1000000   \n",
            "_________________________________________________________________\n",
            "lstm_4 (LSTM)                (None, 200, 100)          80400     \n",
            "_________________________________________________________________\n",
            "lstm_5 (LSTM)                (None, 25)                12600     \n",
            "_________________________________________________________________\n",
            "dense_2 (Dense)              (None, 1)                 26        \n",
            "=================================================================\n",
            "Total params: 1,093,026\n",
            "Trainable params: 1,093,026\n",
            "Non-trainable params: 0\n",
            "_________________________________________________________________\n",
            "Train...\n",
            "Train on 25000 samples, validate on 25000 samples\n",
            "Epoch 1/11\n",
            "25000/25000 [==============================] - 161s 6ms/sample - loss: 0.6815 - accuracy: 0.5484 - val_loss: 0.7000 - val_accuracy: 0.5000\n",
            "Epoch 2/11\n",
            "25000/25000 [==============================] - 162s 6ms/sample - loss: 0.6918 - accuracy: 0.5225 - val_loss: 0.6823 - val_accuracy: 0.5639\n",
            "Epoch 3/11\n",
            "25000/25000 [==============================] - 161s 6ms/sample - loss: 0.6459 - accuracy: 0.6361 - val_loss: 0.6369 - val_accuracy: 0.6422\n",
            "Epoch 4/11\n",
            "25000/25000 [==============================] - 161s 6ms/sample - loss: 0.6085 - accuracy: 0.6757 - val_loss: 0.4912 - val_accuracy: 0.7859\n",
            "Epoch 5/11\n",
            "25000/25000 [==============================] - 160s 6ms/sample - loss: 0.5985 - accuracy: 0.6878 - val_loss: 0.7163 - val_accuracy: 0.5012\n",
            "Epoch 6/11\n",
            "25000/25000 [==============================] - 161s 6ms/sample - loss: 0.6013 - accuracy: 0.6755 - val_loss: 0.4933 - val_accuracy: 0.7916\n",
            "Epoch 7/11\n",
            "25000/25000 [==============================] - 157s 6ms/sample - loss: 0.4463 - accuracy: 0.8097 - val_loss: 0.4225 - val_accuracy: 0.8310\n",
            "Epoch 8/11\n",
            "25000/25000 [==============================] - 154s 6ms/sample - loss: 0.3564 - accuracy: 0.8622 - val_loss: 0.3778 - val_accuracy: 0.8460\n",
            "Epoch 9/11\n",
            "25000/25000 [==============================] - 157s 6ms/sample - loss: 0.3009 - accuracy: 0.8854 - val_loss: 0.3716 - val_accuracy: 0.8494\n",
            "Epoch 10/11\n",
            "25000/25000 [==============================] - 158s 6ms/sample - loss: 0.2643 - accuracy: 0.9050 - val_loss: 0.3715 - val_accuracy: 0.8499\n",
            "Epoch 11/11\n",
            "25000/25000 [==============================] - 156s 6ms/sample - loss: 0.2324 - accuracy: 0.9177 - val_loss: 0.3685 - val_accuracy: 0.8525\n",
            "25000/25000 [==============================] - 55s 2ms/sample - loss: 0.3685 - accuracy: 0.8525\n",
            "Test score: 0.3685439280867577\n",
            "Test accuracy: 0.85252\n"
          ],
          "name": "stdout"
        },
        {
          "output_type": "display_data",
          "data": {
            "image/png": "[encoded data removed]",
            "text/plain": [
              "<Figure size 432x288 with 1 Axes>"
            ]
          },
          "metadata": {
            "tags": [],
            "needs_background": "light"
          }
        },
        {
          "output_type": "stream",
          "text": [
            "Making a prediction on the following reviews:\n",
            "1) The movie was a great waste of my time. The storyline didn't catch my attention or interest\n",
            "2) That was one of the better movies I have seen this year. I loved the plot and thoroughly enjoyed the action.\n",
            "Prediction 1 (0 = negative, 1 = positive) = 0.0401\n",
            "Prediction 2 (0 = negative, 1 = positive) = 0.8512\n"
          ],
          "name": "stdout"
        }
      ]
    }
  ]
}